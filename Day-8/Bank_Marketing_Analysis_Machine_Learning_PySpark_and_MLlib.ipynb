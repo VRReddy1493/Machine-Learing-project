{
  "nbformat": 4,
  "nbformat_minor": 0,
  "metadata": {
    "kernelspec": {
      "display_name": "conda_python3",
      "language": "python",
      "name": "conda_python3"
    },
    "language_info": {
      "codemirror_mode": {
        "name": "ipython",
        "version": 3
      },
      "file_extension": ".py",
      "mimetype": "text/x-python",
      "name": "python",
      "nbconvert_exporter": "python",
      "pygments_lexer": "ipython3",
      "version": "3.6.4"
    },
    "colab": {
      "name": "Bank Marketing Analysis Machine Learning PySpark and MLlib.ipynb",
      "provenance": [],
      "collapsed_sections": []
    }
  },
  "cells": [
    {
      "cell_type": "markdown",
      "metadata": {
        "id": "jQTavWdJ5Um-"
      },
      "source": [
        "# Bank Marketing Analysis (Machine Learning PySpark and MLlib)"
      ]
    },
    {
      "cell_type": "markdown",
      "metadata": {
        "id": "ga_WYPvc5HyD"
      },
      "source": [
        "![images.jpg](data:image/jpeg;base64,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)"
      ]
    },
    {
      "cell_type": "code",
      "metadata": {
        "colab": {
          "base_uri": "https://localhost:8080/"
        },
        "id": "lZP7DFec5phr",
        "outputId": "f8548030-d492-4ac4-9d20-f3b634556a70"
      },
      "source": [
        "!pip install pyspark"
      ],
      "execution_count": 2,
      "outputs": [
        {
          "output_type": "stream",
          "text": [
            "Collecting pyspark\n",
            "\u001b[?25l  Downloading https://files.pythonhosted.org/packages/89/db/e18cfd78e408de957821ec5ca56de1250645b05f8523d169803d8df35a64/pyspark-3.1.2.tar.gz (212.4MB)\n",
            "\u001b[K     |████████████████████████████████| 212.4MB 70kB/s \n",
            "\u001b[?25hCollecting py4j==0.10.9\n",
            "\u001b[?25l  Downloading https://files.pythonhosted.org/packages/9e/b6/6a4fb90cd235dc8e265a6a2067f2a2c99f0d91787f06aca4bcf7c23f3f80/py4j-0.10.9-py2.py3-none-any.whl (198kB)\n",
            "\u001b[K     |████████████████████████████████| 204kB 19.8MB/s \n",
            "\u001b[?25hBuilding wheels for collected packages: pyspark\n",
            "  Building wheel for pyspark (setup.py) ... \u001b[?25l\u001b[?25hdone\n",
            "  Created wheel for pyspark: filename=pyspark-3.1.2-py2.py3-none-any.whl size=212880768 sha256=c7fac1b2db1e84d49e57e71c5d13e9d8e698e67da371d713b7d9a7c838582f63\n",
            "  Stored in directory: /root/.cache/pip/wheels/40/1b/2c/30f43be2627857ab80062bef1527c0128f7b4070b6b2d02139\n",
            "Successfully built pyspark\n",
            "Installing collected packages: py4j, pyspark\n",
            "Successfully installed py4j-0.10.9 pyspark-3.1.2\n"
          ],
          "name": "stdout"
        }
      ]
    },
    {
      "cell_type": "code",
      "metadata": {
        "colab": {
          "base_uri": "https://localhost:8080/"
        },
        "id": "SnPH9g2Y46_X",
        "outputId": "f4ff5892-ea37-4f98-cd0a-b10fda514b6c"
      },
      "source": [
        "from pyspark.sql import SparkSession\n",
        "spark = SparkSession.builder.appName('bank').getOrCreate()\n",
        "df = spark.read.csv('/content/bank.csv', header = True, inferSchema = True)\n",
        "df.printSchema()"
      ],
      "execution_count": 3,
      "outputs": [
        {
          "output_type": "stream",
          "text": [
            "root\n",
            " |-- age: integer (nullable = true)\n",
            " |-- job: string (nullable = true)\n",
            " |-- marital: string (nullable = true)\n",
            " |-- education: string (nullable = true)\n",
            " |-- default: string (nullable = true)\n",
            " |-- balance: integer (nullable = true)\n",
            " |-- housing: string (nullable = true)\n",
            " |-- loan: string (nullable = true)\n",
            " |-- contact: string (nullable = true)\n",
            " |-- day: integer (nullable = true)\n",
            " |-- month: string (nullable = true)\n",
            " |-- duration: integer (nullable = true)\n",
            " |-- campaign: integer (nullable = true)\n",
            " |-- pdays: integer (nullable = true)\n",
            " |-- previous: integer (nullable = true)\n",
            " |-- poutcome: string (nullable = true)\n",
            " |-- deposit: string (nullable = true)\n",
            "\n"
          ],
          "name": "stdout"
        }
      ]
    },
    {
      "cell_type": "code",
      "metadata": {
        "colab": {
          "base_uri": "https://localhost:8080/"
        },
        "id": "7xPdCGeX46_h",
        "outputId": "7e718d46-e504-48ec-f608-b11ae938cf1e"
      },
      "source": [
        "df.show(5)"
      ],
      "execution_count": 5,
      "outputs": [
        {
          "output_type": "stream",
          "text": [
            "+---+----------+-------+---------+-------+-------+-------+----+-------+---+-----+--------+--------+-----+--------+--------+-------+\n",
            "|age|       job|marital|education|default|balance|housing|loan|contact|day|month|duration|campaign|pdays|previous|poutcome|deposit|\n",
            "+---+----------+-------+---------+-------+-------+-------+----+-------+---+-----+--------+--------+-----+--------+--------+-------+\n",
            "| 59|    admin.|married|secondary|     no|   2343|    yes|  no|unknown|  5|  may|    1042|       1|   -1|       0| unknown|    yes|\n",
            "| 56|    admin.|married|secondary|     no|     45|     no|  no|unknown|  5|  may|    1467|       1|   -1|       0| unknown|    yes|\n",
            "| 41|technician|married|secondary|     no|   1270|    yes|  no|unknown|  5|  may|    1389|       1|   -1|       0| unknown|    yes|\n",
            "| 55|  services|married|secondary|     no|   2476|    yes|  no|unknown|  5|  may|     579|       1|   -1|       0| unknown|    yes|\n",
            "| 54|    admin.|married| tertiary|     no|    184|     no|  no|unknown|  5|  may|     673|       2|   -1|       0| unknown|    yes|\n",
            "+---+----------+-------+---------+-------+-------+-------+----+-------+---+-----+--------+--------+-----+--------+--------+-------+\n",
            "only showing top 5 rows\n",
            "\n"
          ],
          "name": "stdout"
        }
      ]
    },
    {
      "cell_type": "markdown",
      "metadata": {
        "id": "Bh_ItoMk46_h"
      },
      "source": [
        "### Our Classes are perfect balanced"
      ]
    },
    {
      "cell_type": "code",
      "metadata": {
        "scrolled": true,
        "colab": {
          "base_uri": "https://localhost:8080/"
        },
        "id": "Y0CVf6e446_i",
        "outputId": "076e516c-04ac-4453-bec4-d062f0488a57"
      },
      "source": [
        "df.groupby('deposit').count().show()"
      ],
      "execution_count": 8,
      "outputs": [
        {
          "output_type": "stream",
          "text": [
            "+-------+-----+\n",
            "|deposit|count|\n",
            "+-------+-----+\n",
            "|     no| 5873|\n",
            "|    yes| 5289|\n",
            "+-------+-----+\n",
            "\n"
          ],
          "name": "stdout"
        }
      ]
    },
    {
      "cell_type": "markdown",
      "metadata": {
        "id": "wduvbEsC46_j"
      },
      "source": [
        "### Summary statistics for numeric variables"
      ]
    },
    {
      "cell_type": "code",
      "metadata": {
        "colab": {
          "base_uri": "https://localhost:8080/"
        },
        "id": "KluIoSfm46_j",
        "outputId": "bc1a6c43-a671-4e5c-a70b-9f791f0e2bb7"
      },
      "source": [
        "numeric_features = [t[0] for t in df.dtypes if t[1] == 'int']\n",
        "df.select(numeric_features).describe().show()"
      ],
      "execution_count": 10,
      "outputs": [
        {
          "output_type": "stream",
          "text": [
            "+-------+------------------+------------------+------------------+------------------+------------------+------------------+------------------+\n",
            "|summary|               age|           balance|               day|          duration|          campaign|             pdays|          previous|\n",
            "+-------+------------------+------------------+------------------+------------------+------------------+------------------+------------------+\n",
            "|  count|             11162|             11162|             11162|             11162|             11162|             11162|             11162|\n",
            "|   mean|41.231947679627304|1528.5385235620856|15.658036194230425|371.99381831213043| 2.508421429851281| 51.33040673714388|0.8325568894463358|\n",
            "| stddev|11.913369192215518| 3225.413325946149| 8.420739541006462|347.12838571630687|2.7220771816614824|108.75828197197717| 2.292007218670508|\n",
            "|    min|                18|             -6847|                 1|                 2|                 1|                -1|                 0|\n",
            "|    max|                95|             81204|                31|              3881|                63|               854|                58|\n",
            "+-------+------------------+------------------+------------------+------------------+------------------+------------------+------------------+\n",
            "\n"
          ],
          "name": "stdout"
        }
      ]
    },
    {
      "cell_type": "code",
      "metadata": {
        "colab": {
          "base_uri": "https://localhost:8080/"
        },
        "id": "IRfTgTMW46_m",
        "outputId": "abd7944a-c06c-4167-d35d-8f4c1e5790a4"
      },
      "source": [
        "df = df.select('age', 'job', 'marital', 'education', 'default', 'balance', 'housing', 'loan', 'contact', 'duration', 'campaign', 'pdays', 'previous', 'poutcome', 'deposit')\n",
        "cols = df.columns\n",
        "df.printSchema()"
      ],
      "execution_count": 12,
      "outputs": [
        {
          "output_type": "stream",
          "text": [
            "root\n",
            " |-- age: integer (nullable = true)\n",
            " |-- job: string (nullable = true)\n",
            " |-- marital: string (nullable = true)\n",
            " |-- education: string (nullable = true)\n",
            " |-- default: string (nullable = true)\n",
            " |-- balance: integer (nullable = true)\n",
            " |-- housing: string (nullable = true)\n",
            " |-- loan: string (nullable = true)\n",
            " |-- contact: string (nullable = true)\n",
            " |-- duration: integer (nullable = true)\n",
            " |-- campaign: integer (nullable = true)\n",
            " |-- pdays: integer (nullable = true)\n",
            " |-- previous: integer (nullable = true)\n",
            " |-- poutcome: string (nullable = true)\n",
            " |-- deposit: string (nullable = true)\n",
            "\n"
          ],
          "name": "stdout"
        }
      ]
    },
    {
      "cell_type": "markdown",
      "metadata": {
        "id": "owVeYK5P46_n"
      },
      "source": [
        "### Preparing Data for Machine Learning\n",
        "\n",
        "Category Indexing, One-Hot Encoding and VectorAssembler - a feature transformer that merges multiple columns into a vector column."
      ]
    },
    {
      "cell_type": "code",
      "metadata": {
        "id": "sHqkj9ag46_o"
      },
      "source": [
        "from pyspark.ml.feature import OneHotEncoder, StringIndexer, VectorAssembler\n",
        "\n",
        "categoricalColumns = ['job', 'marital', 'education', 'default', 'housing', 'loan', 'contact', 'poutcome']\n",
        "stages = []\n",
        "\n",
        "for categoricalCol in categoricalColumns:\n",
        "    stringIndexer = StringIndexer(inputCol = categoricalCol, outputCol = categoricalCol + 'Index')\n",
        "    encoder = OneHotEncoder(inputCols=[stringIndexer.getOutputCol()], outputCols=[categoricalCol + \"classVec\"])\n",
        "    stages += [stringIndexer, encoder]\n",
        "\n",
        "label_stringIdx = StringIndexer(inputCol = 'deposit', outputCol = 'label')\n",
        "stages += [label_stringIdx]\n",
        "\n",
        "numericCols = ['age', 'balance', 'duration', 'campaign', 'pdays', 'previous']\n",
        "assemblerInputs = [c + \"classVec\" for c in categoricalColumns] + numericCols\n",
        "assembler = VectorAssembler(inputCols=assemblerInputs, outputCol=\"features\")\n",
        "stages += [assembler]"
      ],
      "execution_count": 14,
      "outputs": []
    },
    {
      "cell_type": "markdown",
      "metadata": {
        "id": "LxhHnfw046_o"
      },
      "source": [
        "The above code are taken from databricks' official site and it indexes each categorical column using the StringIndexer, then converts the indexed categories into one-hot encoded variables. "
      ]
    },
    {
      "cell_type": "markdown",
      "metadata": {
        "id": "L-5RbzNm46_p"
      },
      "source": [
        "### Pipeline\n",
        "\n",
        "We use Pipeline to chain multiple Transformers and Estimators together to specify our machine learning workflow. A Pipeline’s stages are specified as an ordered array."
      ]
    },
    {
      "cell_type": "code",
      "metadata": {
        "colab": {
          "base_uri": "https://localhost:8080/"
        },
        "id": "2rbtymxU46_q",
        "outputId": "38e721f5-1891-4128-93ce-2030de02b3fb"
      },
      "source": [
        "from pyspark.ml import Pipeline\n",
        "pipeline = Pipeline(stages = stages)\n",
        "pipelineModel = pipeline.fit(df)\n",
        "df = pipelineModel.transform(df)\n",
        "selectedCols = ['label', 'features'] + cols\n",
        "df = df.select(selectedCols)\n",
        "df.printSchema()"
      ],
      "execution_count": 15,
      "outputs": [
        {
          "output_type": "stream",
          "text": [
            "root\n",
            " |-- label: double (nullable = false)\n",
            " |-- features: vector (nullable = true)\n",
            " |-- age: integer (nullable = true)\n",
            " |-- job: string (nullable = true)\n",
            " |-- marital: string (nullable = true)\n",
            " |-- education: string (nullable = true)\n",
            " |-- default: string (nullable = true)\n",
            " |-- balance: integer (nullable = true)\n",
            " |-- housing: string (nullable = true)\n",
            " |-- loan: string (nullable = true)\n",
            " |-- contact: string (nullable = true)\n",
            " |-- duration: integer (nullable = true)\n",
            " |-- campaign: integer (nullable = true)\n",
            " |-- pdays: integer (nullable = true)\n",
            " |-- previous: integer (nullable = true)\n",
            " |-- poutcome: string (nullable = true)\n",
            " |-- deposit: string (nullable = true)\n",
            "\n"
          ],
          "name": "stdout"
        }
      ]
    },
    {
      "cell_type": "code",
      "metadata": {
        "colab": {
          "base_uri": "https://localhost:8080/"
        },
        "id": "6TLoIoLb46_r",
        "outputId": "4e2e5e7b-3659-4fca-f69a-ac53864c5844"
      },
      "source": [
        "df.take(5)"
      ],
      "execution_count": 18,
      "outputs": [
        {
          "output_type": "execute_result",
          "data": {
            "text/plain": [
              "[Row(label=1.0, features=SparseVector(30, {3: 1.0, 11: 1.0, 13: 1.0, 16: 1.0, 18: 1.0, 20: 1.0, 21: 1.0, 24: 59.0, 25: 2343.0, 26: 1042.0, 27: 1.0, 28: -1.0}), age=59, job='admin.', marital='married', education='secondary', default='no', balance=2343, housing='yes', loan='no', contact='unknown', duration=1042, campaign=1, pdays=-1, previous=0, poutcome='unknown', deposit='yes'),\n",
              " Row(label=1.0, features=SparseVector(30, {3: 1.0, 11: 1.0, 13: 1.0, 16: 1.0, 17: 1.0, 18: 1.0, 20: 1.0, 21: 1.0, 24: 56.0, 25: 45.0, 26: 1467.0, 27: 1.0, 28: -1.0}), age=56, job='admin.', marital='married', education='secondary', default='no', balance=45, housing='no', loan='no', contact='unknown', duration=1467, campaign=1, pdays=-1, previous=0, poutcome='unknown', deposit='yes'),\n",
              " Row(label=1.0, features=SparseVector(30, {2: 1.0, 11: 1.0, 13: 1.0, 16: 1.0, 18: 1.0, 20: 1.0, 21: 1.0, 24: 41.0, 25: 1270.0, 26: 1389.0, 27: 1.0, 28: -1.0}), age=41, job='technician', marital='married', education='secondary', default='no', balance=1270, housing='yes', loan='no', contact='unknown', duration=1389, campaign=1, pdays=-1, previous=0, poutcome='unknown', deposit='yes'),\n",
              " Row(label=1.0, features=SparseVector(30, {4: 1.0, 11: 1.0, 13: 1.0, 16: 1.0, 18: 1.0, 20: 1.0, 21: 1.0, 24: 55.0, 25: 2476.0, 26: 579.0, 27: 1.0, 28: -1.0}), age=55, job='services', marital='married', education='secondary', default='no', balance=2476, housing='yes', loan='no', contact='unknown', duration=579, campaign=1, pdays=-1, previous=0, poutcome='unknown', deposit='yes'),\n",
              " Row(label=1.0, features=SparseVector(30, {3: 1.0, 11: 1.0, 14: 1.0, 16: 1.0, 17: 1.0, 18: 1.0, 20: 1.0, 21: 1.0, 24: 54.0, 25: 184.0, 26: 673.0, 27: 2.0, 28: -1.0}), age=54, job='admin.', marital='married', education='tertiary', default='no', balance=184, housing='no', loan='no', contact='unknown', duration=673, campaign=2, pdays=-1, previous=0, poutcome='unknown', deposit='yes')]"
            ]
          },
          "metadata": {
            "tags": []
          },
          "execution_count": 18
        }
      ]
    },
    {
      "cell_type": "markdown",
      "metadata": {
        "id": "Oo3k2NyS46_r"
      },
      "source": [
        "\n",
        "\n",
        "Randomly split data into train and test sets. set seed for reproducibility"
      ]
    },
    {
      "cell_type": "code",
      "metadata": {
        "colab": {
          "base_uri": "https://localhost:8080/"
        },
        "id": "jWgmNJfa46_r",
        "outputId": "998c080c-7c63-41d6-92b2-fe7ea602827e"
      },
      "source": [
        "train, test = df.randomSplit([0.7, 0.3], seed = 20)\n",
        "print(\"Training Dataset Count: \" + str(train.count()))\n",
        "print(\"Test Dataset Count: \" + str(test.count()))"
      ],
      "execution_count": 19,
      "outputs": [
        {
          "output_type": "stream",
          "text": [
            "Training Dataset Count: 7831\n",
            "Test Dataset Count: 3331\n"
          ],
          "name": "stdout"
        }
      ]
    },
    {
      "cell_type": "markdown",
      "metadata": {
        "id": "O_iQTfr-46_s"
      },
      "source": [
        "### Logistic Regression Model"
      ]
    },
    {
      "cell_type": "code",
      "metadata": {
        "id": "mNkgJlc846_s"
      },
      "source": [
        "from pyspark.ml.classification import LogisticRegression\n",
        "\n",
        "lr = LogisticRegression(featuresCol = 'features', labelCol = 'label', maxIter=10)\n",
        "lrModel = lr.fit(train)"
      ],
      "execution_count": 20,
      "outputs": []
    },
    {
      "cell_type": "code",
      "metadata": {
        "colab": {
          "base_uri": "https://localhost:8080/",
          "height": 266
        },
        "id": "mfzmfPN246_t",
        "outputId": "acafbd93-8784-4d3b-bc98-d9ae1030719c"
      },
      "source": [
        "import matplotlib.pyplot as plt\n",
        "import numpy as np\n",
        "\n",
        "beta = np.sort(lrModel.coefficients)\n",
        "\n",
        "plt.plot(beta)\n",
        "plt.ylabel('Beta Coefficients')\n",
        "plt.show()"
      ],
      "execution_count": 21,
      "outputs": [
        {
          "output_type": "display_data",
          "data": {
            "image/png": "[encoded data removed]",
            "text/plain": [
              "<Figure size 432x288 with 1 Axes>"
            ]
          },
          "metadata": {
            "tags": [],
            "needs_background": "light"
          }
        }
      ]
    },
    {
      "cell_type": "markdown",
      "metadata": {
        "id": "l95hI5et46_u"
      },
      "source": [
        "Obtain the receiver-operating characteristic and areaUnderROC"
      ]
    },
    {
      "cell_type": "code",
      "metadata": {
        "colab": {
          "base_uri": "https://localhost:8080/",
          "height": 312
        },
        "id": "JPn6Gxh946_u",
        "outputId": "8a3142f8-f409-4965-be4d-731a5e174db4"
      },
      "source": [
        "trainingSummary = lrModel.summary\n",
        "\n",
        "roc = trainingSummary.roc.toPandas()\n",
        "plt.plot(roc['FPR'],roc['TPR'])\n",
        "plt.ylabel('False Positive Rate')\n",
        "plt.xlabel('True Positive Rate')\n",
        "plt.title('ROC Curve')\n",
        "plt.show()\n",
        "\n",
        "print('Training set areaUnderROC: ' + str(trainingSummary.areaUnderROC))"
      ],
      "execution_count": 22,
      "outputs": [
        {
          "output_type": "display_data",
          "data": {
            "image/png": "[encoded data removed]",
            "text/plain": [
              "<Figure size 432x288 with 1 Axes>"
            ]
          },
          "metadata": {
            "tags": [],
            "needs_background": "light"
          }
        },
        {
          "output_type": "stream",
          "text": [
            "Training set areaUnderROC: 0.8888721156766819\n"
          ],
          "name": "stdout"
        }
      ]
    },
    {
      "cell_type": "markdown",
      "metadata": {
        "id": "nUe2KZMT46_v"
      },
      "source": [
        "Precision and Recall"
      ]
    },
    {
      "cell_type": "code",
      "metadata": {
        "colab": {
          "base_uri": "https://localhost:8080/",
          "height": 279
        },
        "id": "9bMEtr_r46_w",
        "outputId": "82a1521e-1c33-48a5-e60f-dd9ad38cfde5"
      },
      "source": [
        "pr = trainingSummary.pr.toPandas()\n",
        "plt.plot(pr['recall'],pr['precision'])\n",
        "plt.ylabel('Precision')\n",
        "plt.xlabel('Recall')\n",
        "plt.show()"
      ],
      "execution_count": 23,
      "outputs": [
        {
          "output_type": "display_data",
          "data": {
            "image/png": "[encoded data removed]",
            "text/plain": [
              "<Figure size 432x288 with 1 Axes>"
            ]
          },
          "metadata": {
            "tags": [],
            "needs_background": "light"
          }
        }
      ]
    },
    {
      "cell_type": "markdown",
      "metadata": {
        "id": "2v7rm6wp46_w"
      },
      "source": [
        "Set the model threshold to maximize F-Measure"
      ]
    },
    {
      "cell_type": "code",
      "metadata": {
        "colab": {
          "base_uri": "https://localhost:8080/",
          "height": 279
        },
        "id": "uvMaun6F46_x",
        "outputId": "40073471-2c6c-4ccb-c4d6-9abd2329d87f"
      },
      "source": [
        "f = trainingSummary.fMeasureByThreshold.toPandas()\n",
        "plt.plot(f['threshold'],f['F-Measure'])\n",
        "plt.ylabel('F-Measure')\n",
        "plt.xlabel('Threshold')\n",
        "plt.show()"
      ],
      "execution_count": 24,
      "outputs": [
        {
          "output_type": "display_data",
          "data": {
            "image/png": "[encoded data removed]",
            "text/plain": [
              "<Figure size 432x288 with 1 Axes>"
            ]
          },
          "metadata": {
            "tags": [],
            "needs_background": "light"
          }
        }
      ]
    },
    {
      "cell_type": "markdown",
      "metadata": {
        "id": "o5nIq55H46_y"
      },
      "source": [
        "Make predictions on the test set"
      ]
    },
    {
      "cell_type": "code",
      "metadata": {
        "colab": {
          "base_uri": "https://localhost:8080/"
        },
        "id": "aeaYUjf346_y",
        "outputId": "9e901492-531a-4dc0-c8e0-710693a774d6"
      },
      "source": [
        "predictions = lrModel.transform(test)\n",
        "predictions.select('age', 'job', 'label', 'rawPrediction', 'prediction', 'probability').show(10)"
      ],
      "execution_count": 25,
      "outputs": [
        {
          "output_type": "stream",
          "text": [
            "+---+----------+-----+--------------------+----------+--------------------+\n",
            "|age|       job|label|       rawPrediction|prediction|         probability|\n",
            "+---+----------+-----+--------------------+----------+--------------------+\n",
            "| 35|management|  0.0|[1.96845374172963...|       0.0|[0.87744493281539...|\n",
            "| 52|management|  0.0|[-0.7582294615119...|       1.0|[0.31903079264827...|\n",
            "| 58|management|  0.0|[2.83414555825610...|       0.0|[0.94449333665745...|\n",
            "| 61|management|  0.0|[0.96824577286199...|       0.0|[0.72476970506385...|\n",
            "| 36|management|  0.0|[0.95995095781919...|       0.0|[0.72311198595530...|\n",
            "| 38|management|  0.0|[0.11710905866845...|       0.0|[0.52924385016178...|\n",
            "| 56|management|  0.0|[2.97183729052417...|       0.0|[0.95128549025780...|\n",
            "| 33|management|  0.0|[2.94562408262224...|       0.0|[0.95005626240302...|\n",
            "| 34|management|  0.0|[1.29177314600250...|       0.0|[0.78444716131969...|\n",
            "| 39|management|  0.0|[1.19344018775443...|       0.0|[0.76735577438380...|\n",
            "+---+----------+-----+--------------------+----------+--------------------+\n",
            "only showing top 10 rows\n",
            "\n"
          ],
          "name": "stdout"
        }
      ]
    },
    {
      "cell_type": "markdown",
      "metadata": {
        "id": "XHKbuPOw46_z"
      },
      "source": [
        "Evaluate our Logistic Regression model"
      ]
    },
    {
      "cell_type": "code",
      "metadata": {
        "colab": {
          "base_uri": "https://localhost:8080/"
        },
        "id": "nKYJ4CQQ46_z",
        "outputId": "69bbd7d5-7b81-4791-d6ea-4f3d11c69a34"
      },
      "source": [
        "from pyspark.ml.evaluation import BinaryClassificationEvaluator\n",
        "\n",
        "evaluator = BinaryClassificationEvaluator()\n",
        "print('Test Area Under ROC', evaluator.evaluate(predictions))"
      ],
      "execution_count": 26,
      "outputs": [
        {
          "output_type": "stream",
          "text": [
            "Test Area Under ROC 0.8779282332466435\n"
          ],
          "name": "stdout"
        }
      ]
    },
    {
      "cell_type": "code",
      "metadata": {
        "colab": {
          "base_uri": "https://localhost:8080/",
          "height": 35
        },
        "id": "bEfZFDb346_0",
        "outputId": "73231548-df99-44c0-d920-87f8308843a4"
      },
      "source": [
        "evaluator.getMetricName()"
      ],
      "execution_count": 27,
      "outputs": [
        {
          "output_type": "execute_result",
          "data": {
            "application/vnd.google.colaboratory.intrinsic+json": {
              "type": "string"
            },
            "text/plain": [
              "'areaUnderROC'"
            ]
          },
          "metadata": {
            "tags": []
          },
          "execution_count": 27
        }
      ]
    },
    {
      "cell_type": "markdown",
      "metadata": {
        "id": "Wq6BDf5z46_1"
      },
      "source": [
        "## ParamGridBuilder and the CrossValidator."
      ]
    },
    {
      "cell_type": "code",
      "metadata": {
        "colab": {
          "base_uri": "https://localhost:8080/"
        },
        "id": "KgEsvzBS46_1",
        "outputId": "a3a8f99f-c9c5-47f5-847e-6aa02073b432"
      },
      "source": [
        "from pyspark.ml.tuning import ParamGridBuilder, CrossValidator\n",
        "\n",
        "# Create ParamGrid for Cross Validation\n",
        "paramGrid = (ParamGridBuilder()\n",
        "             .addGrid(lr.regParam, [0.01, 0.5, 2.0])\n",
        "             .addGrid(lr.elasticNetParam, [0.0, 0.5, 1.0])\n",
        "             .addGrid(lr.maxIter, [1, 5, 10])\n",
        "             .build())\n",
        "\n",
        "cv = CrossValidator(estimator=lr, estimatorParamMaps=paramGrid, evaluator=evaluator, numFolds=5)\n",
        "\n",
        "cvModel = cv.fit(train)\n",
        "predictions = cvModel.transform(test)\n",
        "print('Test Area Under ROC', evaluator.evaluate(predictions))"
      ],
      "execution_count": 28,
      "outputs": [
        {
          "output_type": "stream",
          "text": [
            "Test Area Under ROC 0.8780256816152486\n"
          ],
          "name": "stdout"
        }
      ]
    },
    {
      "cell_type": "code",
      "metadata": {
        "colab": {
          "base_uri": "https://localhost:8080/",
          "height": 35
        },
        "id": "DXfKY7tF46_2",
        "outputId": "f4f644fd-08be-4fc3-dc7e-9e9e308eff0b"
      },
      "source": [
        "evaluator.getMetricName()"
      ],
      "execution_count": 29,
      "outputs": [
        {
          "output_type": "execute_result",
          "data": {
            "application/vnd.google.colaboratory.intrinsic+json": {
              "type": "string"
            },
            "text/plain": [
              "'areaUnderROC'"
            ]
          },
          "metadata": {
            "tags": []
          },
          "execution_count": 29
        }
      ]
    },
    {
      "cell_type": "markdown",
      "metadata": {
        "id": "yntERsxu46_3"
      },
      "source": [
        "### Decision Tree Classifier\n"
      ]
    },
    {
      "cell_type": "code",
      "metadata": {
        "colab": {
          "base_uri": "https://localhost:8080/"
        },
        "id": "H81JTpnp46_4",
        "outputId": "1454577c-5ce9-4630-cdbd-4fb7f380a53f"
      },
      "source": [
        "from pyspark.ml.classification import DecisionTreeClassifier\n",
        "\n",
        "dt = DecisionTreeClassifier(featuresCol = 'features', labelCol = 'label', maxDepth = 3)\n",
        "dtModel = dt.fit(train)\n",
        "predictions = dtModel.transform(test)\n",
        "predictions.select('age', 'job', 'label', 'rawPrediction', 'prediction', 'probability').show(10)"
      ],
      "execution_count": 30,
      "outputs": [
        {
          "output_type": "stream",
          "text": [
            "+---+----------+-----+--------------+----------+--------------------+\n",
            "|age|       job|label| rawPrediction|prediction|         probability|\n",
            "+---+----------+-----+--------------+----------+--------------------+\n",
            "| 35|management|  0.0|[806.0,1231.0]|       1.0|[0.39567992145311...|\n",
            "| 52|management|  0.0|[410.0,1789.0]|       1.0|[0.18644838562983...|\n",
            "| 58|management|  0.0|[2509.0,461.0]|       0.0|[0.84478114478114...|\n",
            "| 61|management|  0.0|[2509.0,461.0]|       0.0|[0.84478114478114...|\n",
            "| 36|management|  0.0|  [381.0,29.0]|       0.0|[0.92926829268292...|\n",
            "| 38|management|  0.0|[410.0,1789.0]|       1.0|[0.18644838562983...|\n",
            "| 56|management|  0.0|[2509.0,461.0]|       0.0|[0.84478114478114...|\n",
            "| 33|management|  0.0|[2509.0,461.0]|       0.0|[0.84478114478114...|\n",
            "| 34|management|  0.0|[806.0,1231.0]|       1.0|[0.39567992145311...|\n",
            "| 39|management|  0.0|[2509.0,461.0]|       0.0|[0.84478114478114...|\n",
            "+---+----------+-----+--------------+----------+--------------------+\n",
            "only showing top 10 rows\n",
            "\n"
          ],
          "name": "stdout"
        }
      ]
    },
    {
      "cell_type": "markdown",
      "metadata": {
        "id": "lWaPPA5X46_5"
      },
      "source": [
        "Evaluate our Decision Tree model"
      ]
    },
    {
      "cell_type": "code",
      "metadata": {
        "colab": {
          "base_uri": "https://localhost:8080/"
        },
        "id": "QipGiBwx46_6",
        "outputId": "18ff25db-c954-40d3-a72a-8e57d7509c9b"
      },
      "source": [
        "evaluator = BinaryClassificationEvaluator()\n",
        "print(\"Test Area Under ROC: \" + str(evaluator.evaluate(predictions, {evaluator.metricName: \"areaUnderROC\"})))"
      ],
      "execution_count": 31,
      "outputs": [
        {
          "output_type": "stream",
          "text": [
            "Test Area Under ROC: 0.7653006570907404\n"
          ],
          "name": "stdout"
        }
      ]
    },
    {
      "cell_type": "code",
      "metadata": {
        "colab": {
          "base_uri": "https://localhost:8080/",
          "height": 35
        },
        "id": "NUwRZVXJ46_6",
        "outputId": "adccfd06-e108-418b-db57-d1346580c127"
      },
      "source": [
        "evaluator.getMetricName()"
      ],
      "execution_count": 32,
      "outputs": [
        {
          "output_type": "execute_result",
          "data": {
            "application/vnd.google.colaboratory.intrinsic+json": {
              "type": "string"
            },
            "text/plain": [
              "'areaUnderROC'"
            ]
          },
          "metadata": {
            "tags": []
          },
          "execution_count": 32
        }
      ]
    },
    {
      "cell_type": "markdown",
      "metadata": {
        "id": "HbjwP4_D46_7"
      },
      "source": [
        "### Random Forest Classifier"
      ]
    },
    {
      "cell_type": "code",
      "metadata": {
        "colab": {
          "base_uri": "https://localhost:8080/"
        },
        "id": "ZnhnGpV746_7",
        "outputId": "167767f8-79d1-49fb-8ce0-e5af76e2302e"
      },
      "source": [
        "from pyspark.ml.classification import RandomForestClassifier\n",
        "\n",
        "rf = RandomForestClassifier(featuresCol = 'features', labelCol = 'label')\n",
        "rfModel = rf.fit(train)\n",
        "predictions = rfModel.transform(test)\n",
        "predictions.select('age', 'job', 'label', 'rawPrediction', 'prediction', 'probability').show(10)"
      ],
      "execution_count": 33,
      "outputs": [
        {
          "output_type": "stream",
          "text": [
            "+---+----------+-----+--------------------+----------+--------------------+\n",
            "|age|       job|label|       rawPrediction|prediction|         probability|\n",
            "+---+----------+-----+--------------------+----------+--------------------+\n",
            "| 35|management|  0.0|[11.6826491565660...|       0.0|[0.58413245782830...|\n",
            "| 52|management|  0.0|[6.76151386895772...|       1.0|[0.33807569344788...|\n",
            "| 58|management|  0.0|[14.7875490703257...|       0.0|[0.73937745351628...|\n",
            "| 61|management|  0.0|[8.11170549659424...|       1.0|[0.40558527482971...|\n",
            "| 36|management|  0.0|[15.6837449789468...|       0.0|[0.78418724894734...|\n",
            "| 38|management|  0.0|[11.2768666241881...|       0.0|[0.56384333120940...|\n",
            "| 56|management|  0.0|[16.5262296952490...|       0.0|[0.82631148476245...|\n",
            "| 33|management|  0.0|[15.5969230090585...|       0.0|[0.77984615045292...|\n",
            "| 34|management|  0.0|[12.1391199827933...|       0.0|[0.60695599913966...|\n",
            "| 39|management|  0.0|[13.6689213205597...|       0.0|[0.68344606602798...|\n",
            "+---+----------+-----+--------------------+----------+--------------------+\n",
            "only showing top 10 rows\n",
            "\n"
          ],
          "name": "stdout"
        }
      ]
    },
    {
      "cell_type": "code",
      "metadata": {
        "colab": {
          "base_uri": "https://localhost:8080/"
        },
        "id": "J7FkLXxL46_8",
        "outputId": "29060c39-826e-414b-c9b6-c098f4c3c619"
      },
      "source": [
        "evaluator = BinaryClassificationEvaluator()\n",
        "print(\"Test Area Under ROC: \" + str(evaluator.evaluate(predictions, {evaluator.metricName: \"areaUnderROC\"})))"
      ],
      "execution_count": 34,
      "outputs": [
        {
          "output_type": "stream",
          "text": [
            "Test Area Under ROC: 0.8799710397885296\n"
          ],
          "name": "stdout"
        }
      ]
    },
    {
      "cell_type": "code",
      "metadata": {
        "colab": {
          "base_uri": "https://localhost:8080/",
          "height": 35
        },
        "id": "CXSfNt5l46_8",
        "outputId": "ca3d96d7-4309-4c3f-c5e6-7db5fe75a3a6"
      },
      "source": [
        "evaluator.getMetricName()"
      ],
      "execution_count": 35,
      "outputs": [
        {
          "output_type": "execute_result",
          "data": {
            "application/vnd.google.colaboratory.intrinsic+json": {
              "type": "string"
            },
            "text/plain": [
              "'areaUnderROC'"
            ]
          },
          "metadata": {
            "tags": []
          },
          "execution_count": 35
        }
      ]
    },
    {
      "cell_type": "code",
      "metadata": {
        "colab": {
          "base_uri": "https://localhost:8080/"
        },
        "id": "MNlXBSUV46_9",
        "outputId": "cd2b38e3-6331-44c9-e100-02d9f79010a5"
      },
      "source": [
        "print(rf.explainParams())"
      ],
      "execution_count": 36,
      "outputs": [
        {
          "output_type": "stream",
          "text": [
            "bootstrap: Whether bootstrap samples are used when building trees. (default: True)\n",
            "cacheNodeIds: If false, the algorithm will pass trees to executors to match instances with nodes. If true, the algorithm will cache node IDs for each instance. Caching can speed up training of deeper trees. Users can set how often should the cache be checkpointed or disable it by setting checkpointInterval. (default: False)\n",
            "checkpointInterval: set checkpoint interval (>= 1) or disable checkpoint (-1). E.g. 10 means that the cache will get checkpointed every 10 iterations. Note: this setting will be ignored if the checkpoint directory is not set in the SparkContext. (default: 10)\n",
            "featureSubsetStrategy: The number of features to consider for splits at each tree node. Supported options: 'auto' (choose automatically for task: If numTrees == 1, set to 'all'. If numTrees > 1 (forest), set to 'sqrt' for classification and to 'onethird' for regression), 'all' (use all features), 'onethird' (use 1/3 of the features), 'sqrt' (use sqrt(number of features)), 'log2' (use log2(number of features)), 'n' (when n is in the range (0, 1.0], use n * number of features. When n is in the range (1, number of features), use n features). default = 'auto' (default: auto)\n",
            "featuresCol: features column name. (default: features, current: features)\n",
            "impurity: Criterion used for information gain calculation (case-insensitive). Supported options: entropy, gini (default: gini)\n",
            "labelCol: label column name. (default: label, current: label)\n",
            "leafCol: Leaf indices column name. Predicted leaf index of each instance in each tree by preorder. (default: )\n",
            "maxBins: Max number of bins for discretizing continuous features.  Must be >=2 and >= number of categories for any categorical feature. (default: 32)\n",
            "maxDepth: Maximum depth of the tree. (>= 0) E.g., depth 0 means 1 leaf node; depth 1 means 1 internal node + 2 leaf nodes. (default: 5)\n",
            "maxMemoryInMB: Maximum memory in MB allocated to histogram aggregation. If too small, then 1 node will be split per iteration, and its aggregates may exceed this size. (default: 256)\n",
            "minInfoGain: Minimum information gain for a split to be considered at a tree node. (default: 0.0)\n",
            "minInstancesPerNode: Minimum number of instances each child must have after split. If a split causes the left or right child to have fewer than minInstancesPerNode, the split will be discarded as invalid. Should be >= 1. (default: 1)\n",
            "minWeightFractionPerNode: Minimum fraction of the weighted sample count that each child must have after split. If a split causes the fraction of the total weight in the left or right child to be less than minWeightFractionPerNode, the split will be discarded as invalid. Should be in interval [0.0, 0.5). (default: 0.0)\n",
            "numTrees: Number of trees to train (>= 1). (default: 20)\n",
            "predictionCol: prediction column name. (default: prediction)\n",
            "probabilityCol: Column name for predicted class conditional probabilities. Note: Not all models output well-calibrated probability estimates! These probabilities should be treated as confidences, not precise probabilities. (default: probability)\n",
            "rawPredictionCol: raw prediction (a.k.a. confidence) column name. (default: rawPrediction)\n",
            "seed: random seed. (default: -4655436307105018945)\n",
            "subsamplingRate: Fraction of the training data used for learning each decision tree, in range (0, 1]. (default: 1.0)\n",
            "thresholds: Thresholds in multi-class classification to adjust the probability of predicting each class. Array must have length equal to the number of classes, with values > 0, excepting that at most one value may be 0. The class with largest value p/t is predicted, where p is the original probability of that class and t is the class's threshold. (undefined)\n",
            "weightCol: weight column name. If this is not set or empty, we treat all instance weights as 1.0. (undefined)\n"
          ],
          "name": "stdout"
        }
      ]
    },
    {
      "cell_type": "markdown",
      "metadata": {
        "id": "lRTmf8Sy46_9"
      },
      "source": [
        "### Gradient-boosted Tree Classifier"
      ]
    },
    {
      "cell_type": "code",
      "metadata": {
        "colab": {
          "base_uri": "https://localhost:8080/"
        },
        "id": "TDq9a9XR46_9",
        "outputId": "68d57194-ee75-4dc2-b4cf-e8a2e8214dc2"
      },
      "source": [
        "from pyspark.ml.classification import GBTClassifier\n",
        "\n",
        "gbt = GBTClassifier(maxIter=10)\n",
        "gbtModel = gbt.fit(train)\n",
        "predictions = gbtModel.transform(test)\n",
        "predictions.select('age', 'job', 'label', 'rawPrediction', 'prediction', 'probability').show(10)"
      ],
      "execution_count": 37,
      "outputs": [
        {
          "output_type": "stream",
          "text": [
            "+---+----------+-----+--------------------+----------+--------------------+\n",
            "|age|       job|label|       rawPrediction|prediction|         probability|\n",
            "+---+----------+-----+--------------------+----------+--------------------+\n",
            "| 35|management|  0.0|[0.01682559065166...|       0.0|[0.50841200152686...|\n",
            "| 52|management|  0.0|[-0.6211891589025...|       1.0|[0.22402227642440...|\n",
            "| 58|management|  0.0|[1.29272834739567...|       0.0|[0.92991971198451...|\n",
            "| 61|management|  0.0|[-0.5031407767736...|       1.0|[0.26770818696320...|\n",
            "| 36|management|  0.0|[1.01423222487108...|       0.0|[0.88375341870001...|\n",
            "| 38|management|  0.0|[0.16831130119054...|       0.0|[0.58336988010861...|\n",
            "| 56|management|  0.0|[1.29886298353932...|       0.0|[0.93071508329252...|\n",
            "| 33|management|  0.0|[1.22951248655661...|       0.0|[0.92121892968591...|\n",
            "| 34|management|  0.0|[0.41386840111175...|       0.0|[0.69587617600586...|\n",
            "| 39|management|  0.0|[0.96042671357464...|       0.0|[0.87223357166988...|\n",
            "+---+----------+-----+--------------------+----------+--------------------+\n",
            "only showing top 10 rows\n",
            "\n"
          ],
          "name": "stdout"
        }
      ]
    },
    {
      "cell_type": "code",
      "metadata": {
        "colab": {
          "base_uri": "https://localhost:8080/"
        },
        "id": "-qJzOm_r46_-",
        "outputId": "5d05207c-7bc9-40d9-a1e1-391092201976"
      },
      "source": [
        "evaluator = BinaryClassificationEvaluator()\n",
        "print(\"Test Area Under ROC: \" + str(evaluator.evaluate(predictions, {evaluator.metricName: \"areaUnderROC\"})))"
      ],
      "execution_count": 38,
      "outputs": [
        {
          "output_type": "stream",
          "text": [
            "Test Area Under ROC: 0.8815986080041944\n"
          ],
          "name": "stdout"
        }
      ]
    },
    {
      "cell_type": "code",
      "metadata": {
        "colab": {
          "base_uri": "https://localhost:8080/",
          "height": 35
        },
        "id": "nBEPpq0N46_-",
        "outputId": "8e174d15-f370-4b16-ade7-89e45e842a6f"
      },
      "source": [
        "evaluator.getMetricName()"
      ],
      "execution_count": 39,
      "outputs": [
        {
          "output_type": "execute_result",
          "data": {
            "application/vnd.google.colaboratory.intrinsic+json": {
              "type": "string"
            },
            "text/plain": [
              "'areaUnderROC'"
            ]
          },
          "metadata": {
            "tags": []
          },
          "execution_count": 39
        }
      ]
    },
    {
      "cell_type": "markdown",
      "metadata": {
        "id": "6PDrjbOD46__"
      },
      "source": [
        "Gradient-boosted Tree achieved the best results, we will try tuning this model with the ParamGridBuilder and the CrossValidator."
      ]
    },
    {
      "cell_type": "code",
      "metadata": {
        "colab": {
          "base_uri": "https://localhost:8080/"
        },
        "id": "PCzVHbmA46__",
        "outputId": "7a85638a-d20a-490b-f375-083138ca3c58"
      },
      "source": [
        "print(gbt.explainParams())"
      ],
      "execution_count": 40,
      "outputs": [
        {
          "output_type": "stream",
          "text": [
            "cacheNodeIds: If false, the algorithm will pass trees to executors to match instances with nodes. If true, the algorithm will cache node IDs for each instance. Caching can speed up training of deeper trees. Users can set how often should the cache be checkpointed or disable it by setting checkpointInterval. (default: False)\n",
            "checkpointInterval: set checkpoint interval (>= 1) or disable checkpoint (-1). E.g. 10 means that the cache will get checkpointed every 10 iterations. Note: this setting will be ignored if the checkpoint directory is not set in the SparkContext. (default: 10)\n",
            "featureSubsetStrategy: The number of features to consider for splits at each tree node. Supported options: 'auto' (choose automatically for task: If numTrees == 1, set to 'all'. If numTrees > 1 (forest), set to 'sqrt' for classification and to 'onethird' for regression), 'all' (use all features), 'onethird' (use 1/3 of the features), 'sqrt' (use sqrt(number of features)), 'log2' (use log2(number of features)), 'n' (when n is in the range (0, 1.0], use n * number of features. When n is in the range (1, number of features), use n features). default = 'auto' (default: all)\n",
            "featuresCol: features column name. (default: features)\n",
            "impurity: Criterion used for information gain calculation (case-insensitive). Supported options: variance (default: variance)\n",
            "labelCol: label column name. (default: label)\n",
            "leafCol: Leaf indices column name. Predicted leaf index of each instance in each tree by preorder. (default: )\n",
            "lossType: Loss function which GBT tries to minimize (case-insensitive). Supported options: logistic (default: logistic)\n",
            "maxBins: Max number of bins for discretizing continuous features.  Must be >=2 and >= number of categories for any categorical feature. (default: 32)\n",
            "maxDepth: Maximum depth of the tree. (>= 0) E.g., depth 0 means 1 leaf node; depth 1 means 1 internal node + 2 leaf nodes. (default: 5)\n",
            "maxIter: max number of iterations (>= 0). (default: 20, current: 10)\n",
            "maxMemoryInMB: Maximum memory in MB allocated to histogram aggregation. If too small, then 1 node will be split per iteration, and its aggregates may exceed this size. (default: 256)\n",
            "minInfoGain: Minimum information gain for a split to be considered at a tree node. (default: 0.0)\n",
            "minInstancesPerNode: Minimum number of instances each child must have after split. If a split causes the left or right child to have fewer than minInstancesPerNode, the split will be discarded as invalid. Should be >= 1. (default: 1)\n",
            "minWeightFractionPerNode: Minimum fraction of the weighted sample count that each child must have after split. If a split causes the fraction of the total weight in the left or right child to be less than minWeightFractionPerNode, the split will be discarded as invalid. Should be in interval [0.0, 0.5). (default: 0.0)\n",
            "predictionCol: prediction column name. (default: prediction)\n",
            "probabilityCol: Column name for predicted class conditional probabilities. Note: Not all models output well-calibrated probability estimates! These probabilities should be treated as confidences, not precise probabilities. (default: probability)\n",
            "rawPredictionCol: raw prediction (a.k.a. confidence) column name. (default: rawPrediction)\n",
            "seed: random seed. (default: 2556478674980208710)\n",
            "stepSize: Step size (a.k.a. learning rate) in interval (0, 1] for shrinking the contribution of each estimator. (default: 0.1)\n",
            "subsamplingRate: Fraction of the training data used for learning each decision tree, in range (0, 1]. (default: 1.0)\n",
            "thresholds: Thresholds in multi-class classification to adjust the probability of predicting each class. Array must have length equal to the number of classes, with values > 0, excepting that at most one value may be 0. The class with largest value p/t is predicted, where p is the original probability of that class and t is the class's threshold. (undefined)\n",
            "validationIndicatorCol: name of the column that indicates whether each row is for training or for validation. False indicates training; true indicates validation. (undefined)\n",
            "validationTol: Threshold for stopping early when fit with validation is used. If the error rate on the validation input changes by less than the validationTol, then learning will stop early (before `maxIter`). This parameter is ignored when fit without validation is used. (default: 0.01)\n",
            "weightCol: weight column name. If this is not set or empty, we treat all instance weights as 1.0. (undefined)\n"
          ],
          "name": "stdout"
        }
      ]
    },
    {
      "cell_type": "code",
      "metadata": {
        "colab": {
          "base_uri": "https://localhost:8080/"
        },
        "id": "3omi4GbB47AA",
        "outputId": "f5720b1b-a4ed-41dc-9c2e-1583d3923f77"
      },
      "source": [
        "from pyspark.ml.tuning import ParamGridBuilder, CrossValidator\n",
        "\n",
        "paramGrid = (ParamGridBuilder()\n",
        "             .addGrid(gbt.maxDepth, [2, 4, 6])\n",
        "             .addGrid(gbt.maxBins, [20, 60])\n",
        "             .addGrid(gbt.maxIter, [10, 20])\n",
        "             .build())\n",
        "\n",
        "cv = CrossValidator(estimator=gbt, estimatorParamMaps=paramGrid, evaluator=evaluator, numFolds=5)\n",
        "\n",
        "# Run cross validations.  This can take about 6 minutes since it is training over 20 trees!\n",
        "cvModel = cv.fit(train)\n",
        "predictions = cvModel.transform(test)\n",
        "evaluator.evaluate(predictions)"
      ],
      "execution_count": 42,
      "outputs": [
        {
          "output_type": "execute_result",
          "data": {
            "text/plain": [
              "0.88498078823459"
            ]
          },
          "metadata": {
            "tags": []
          },
          "execution_count": 42
        }
      ]
    }
  ]
}